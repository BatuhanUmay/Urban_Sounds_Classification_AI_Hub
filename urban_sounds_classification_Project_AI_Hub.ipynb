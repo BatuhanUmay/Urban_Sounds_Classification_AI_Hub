{
  "cells": [
    {
      "cell_type": "code",
      "execution_count": 7,
      "metadata": {
        "id": "oo4ECameVn-0"
      },
      "outputs": [],
      "source": [
        "import cv2\n",
        "import librosa\n",
        "import tensorflow as tf\n",
        "import numpy as np\n",
        "import pandas as pd\n",
        "import matplotlib.pyplot as plt\n",
        "import os"
      ]
    },
    {
      "cell_type": "code",
      "source": [
        "from google.colab import drive\n",
        "drive.mount('/content/drive')"
      ],
      "metadata": {
        "colab": {
          "base_uri": "https://localhost:8080/"
        },
        "id": "ztOa3E5RD2Sy",
        "outputId": "ef4fd722-a9a0-45da-9b57-abc32c49e774"
      },
      "execution_count": 8,
      "outputs": [
        {
          "output_type": "stream",
          "name": "stdout",
          "text": [
            "Drive already mounted at /content/drive; to attempt to forcibly remount, call drive.mount(\"/content/drive\", force_remount=True).\n"
          ]
        }
      ]
    },
    {
      "cell_type": "markdown",
      "metadata": {
        "id": "uqb-z45uVFyt"
      },
      "source": [
        "# Spectrogram Oluşturma"
      ]
    },
    {
      "cell_type": "code",
      "execution_count": 9,
      "metadata": {
        "id": "u0zvPQoWUNRY"
      },
      "outputs": [],
      "source": [
        "def create_spectrogram(y):\n",
        "  spec = librosa.feature.melspectrogram(y = y)\n",
        "  spec_conv = librosa.amplitude_to_db(spec, ref = np.max)  \n",
        "  return spec_conv\n"
      ]
    },
    {
      "cell_type": "markdown",
      "metadata": {
        "id": "y24u_h3HDw0p"
      },
      "source": [
        "# Görüntü İşleme"
      ]
    },
    {
      "cell_type": "code",
      "execution_count": 10,
      "metadata": {
        "id": "2Odx0HT6Dw0u"
      },
      "outputs": [],
      "source": [
        "def spectrogram_change(img):\n",
        "    gray_image = cv2.cvtColor(img, cv2.COLOR_BGR2GRAY)\n",
        "\n",
        "    res_img = np.zeros((374, 500))\n",
        "    normalize_img = cv2.normalize(img, res_img, 0, 100, cv2.NORM_MINMAX)\n",
        "\n",
        "    scale_percent = 60\n",
        "    width = int(normalize_img.shape[1] * scale_percent / 100)\n",
        "    height = int(normalize_img.shape[0] * scale_percent / 100)\n",
        "    dim = (width, height)\n",
        "\n",
        "    resized = cv2.resize(img, dim, interpolation = cv2.INTER_AREA)\n",
        "    \n",
        "    return resized\n"
      ]
    },
    {
      "cell_type": "code",
      "execution_count": 11,
      "metadata": {
        "id": "B1mRoeoYDw0u"
      },
      "outputs": [],
      "source": [
        "def load_images_from_folder(folder, label):\n",
        "    images = []\n",
        "    for filename in os.listdir(folder):\n",
        "        img = cv2.imread(os.path.join(folder, filename))\n",
        "        if img is not None:\n",
        "            images.append([spectrogram_change(img), label])\n",
        "    return images\n"
      ]
    },
    {
      "cell_type": "code",
      "execution_count": 12,
      "metadata": {
        "colab": {
          "base_uri": "https://localhost:8080/"
        },
        "id": "AAhsm8vZDw0u",
        "outputId": "b0a68191-2591-4bf8-b99b-150005dcedea"
      },
      "outputs": [
        {
          "output_type": "stream",
          "name": "stderr",
          "text": [
            "/usr/local/lib/python3.7/dist-packages/ipykernel_launcher.py:2: VisibleDeprecationWarning: Creating an ndarray from ragged nested sequences (which is a list-or-tuple of lists-or-tuples-or ndarrays with different lengths or shapes) is deprecated. If you meant to do this, you must specify 'dtype=object' when creating the ndarray.\n",
            "  \n",
            "/usr/local/lib/python3.7/dist-packages/ipykernel_launcher.py:5: VisibleDeprecationWarning: Creating an ndarray from ragged nested sequences (which is a list-or-tuple of lists-or-tuples-or ndarrays with different lengths or shapes) is deprecated. If you meant to do this, you must specify 'dtype=object' when creating the ndarray.\n",
            "  \"\"\"\n",
            "/usr/local/lib/python3.7/dist-packages/ipykernel_launcher.py:8: VisibleDeprecationWarning: Creating an ndarray from ragged nested sequences (which is a list-or-tuple of lists-or-tuples-or ndarrays with different lengths or shapes) is deprecated. If you meant to do this, you must specify 'dtype=object' when creating the ndarray.\n",
            "  \n",
            "/usr/local/lib/python3.7/dist-packages/ipykernel_launcher.py:11: VisibleDeprecationWarning: Creating an ndarray from ragged nested sequences (which is a list-or-tuple of lists-or-tuples-or ndarrays with different lengths or shapes) is deprecated. If you meant to do this, you must specify 'dtype=object' when creating the ndarray.\n",
            "  # This is added back by InteractiveShellApp.init_path()\n",
            "/usr/local/lib/python3.7/dist-packages/ipykernel_launcher.py:14: VisibleDeprecationWarning: Creating an ndarray from ragged nested sequences (which is a list-or-tuple of lists-or-tuples-or ndarrays with different lengths or shapes) is deprecated. If you meant to do this, you must specify 'dtype=object' when creating the ndarray.\n",
            "  \n",
            "/usr/local/lib/python3.7/dist-packages/ipykernel_launcher.py:17: VisibleDeprecationWarning: Creating an ndarray from ragged nested sequences (which is a list-or-tuple of lists-or-tuples-or ndarrays with different lengths or shapes) is deprecated. If you meant to do this, you must specify 'dtype=object' when creating the ndarray.\n",
            "/usr/local/lib/python3.7/dist-packages/ipykernel_launcher.py:20: VisibleDeprecationWarning: Creating an ndarray from ragged nested sequences (which is a list-or-tuple of lists-or-tuples-or ndarrays with different lengths or shapes) is deprecated. If you meant to do this, you must specify 'dtype=object' when creating the ndarray.\n",
            "/usr/local/lib/python3.7/dist-packages/ipykernel_launcher.py:23: VisibleDeprecationWarning: Creating an ndarray from ragged nested sequences (which is a list-or-tuple of lists-or-tuples-or ndarrays with different lengths or shapes) is deprecated. If you meant to do this, you must specify 'dtype=object' when creating the ndarray.\n",
            "/usr/local/lib/python3.7/dist-packages/ipykernel_launcher.py:26: VisibleDeprecationWarning: Creating an ndarray from ragged nested sequences (which is a list-or-tuple of lists-or-tuples-or ndarrays with different lengths or shapes) is deprecated. If you meant to do this, you must specify 'dtype=object' when creating the ndarray.\n",
            "/usr/local/lib/python3.7/dist-packages/ipykernel_launcher.py:29: VisibleDeprecationWarning: Creating an ndarray from ragged nested sequences (which is a list-or-tuple of lists-or-tuples-or ndarrays with different lengths or shapes) is deprecated. If you meant to do this, you must specify 'dtype=object' when creating the ndarray.\n"
          ]
        }
      ],
      "source": [
        "folders_path = \"/content/drive/MyDrive/main/0\"\n",
        "arr_0 = np.array((load_images_from_folder(folders_path, 0)))\n",
        "\n",
        "folders_path = \"/content/drive/MyDrive/main/1\"\n",
        "arr_1 = np.array((load_images_from_folder(folders_path, 1)))\n",
        "\n",
        "folders_path = \"/content/drive/MyDrive/main/2\"\n",
        "arr_2 = np.array((load_images_from_folder(folders_path, 2)))\n",
        "\n",
        "folders_path = \"/content/drive/MyDrive/main/3\"\n",
        "arr_3 = np.array((load_images_from_folder(folders_path, 3)))\n",
        "\n",
        "folders_path = \"/content/drive/MyDrive/main/4\"\n",
        "arr_4 = np.array((load_images_from_folder(folders_path, 4)))\n",
        "\n",
        "folders_path = \"/content/drive/MyDrive/main/5\"\n",
        "arr_5 = np.array((load_images_from_folder(folders_path, 5)))\n",
        "\n",
        "folders_path = \"/content/drive/MyDrive/main/6\"\n",
        "arr_6 = np.array((load_images_from_folder(folders_path, 6)))\n",
        "\n",
        "folders_path = \"/content/drive/MyDrive/main/7\"\n",
        "arr_7 = np.array((load_images_from_folder(folders_path, 7)))\n",
        "\n",
        "folders_path = \"/content/drive/MyDrive/main/8\"\n",
        "arr_8 = np.array((load_images_from_folder(folders_path, 8)))\n",
        "\n",
        "folders_path = \"/content/drive/MyDrive/main/9\"\n",
        "arr_9 = np.array((load_images_from_folder(folders_path, 9)))\n",
        "\n",
        "np_arr = np.concatenate([arr_0, arr_1, arr_2, arr_3, arr_4, arr_5, arr_6, arr_7, arr_8, arr_9], axis = 0)\n"
      ]
    },
    {
      "cell_type": "code",
      "execution_count": 13,
      "metadata": {
        "id": "1ED0foBvDw0v",
        "colab": {
          "base_uri": "https://localhost:8080/"
        },
        "outputId": "b878adf1-6f47-450d-e3d7-732a86a7b0c3"
      },
      "outputs": [
        {
          "output_type": "execute_result",
          "data": {
            "text/plain": [
              "17476"
            ]
          },
          "metadata": {},
          "execution_count": 13
        }
      ],
      "source": [
        "df = pd.DataFrame(np.array(np_arr), columns = ['features', 'class'])\n",
        "df.size"
      ]
    },
    {
      "cell_type": "code",
      "execution_count": 14,
      "metadata": {
        "id": "X24aSKLFDw0v",
        "colab": {
          "base_uri": "https://localhost:8080/"
        },
        "outputId": "29e5ba10-5482-4475-dbce-b43d768d790c"
      },
      "outputs": [
        {
          "output_type": "execute_result",
          "data": {
            "text/plain": [
              "(8738, 2)"
            ]
          },
          "metadata": {},
          "execution_count": 14
        }
      ],
      "source": [
        "df.shape"
      ]
    },
    {
      "cell_type": "code",
      "execution_count": 15,
      "metadata": {
        "id": "l27GcmcnDw0v"
      },
      "outputs": [],
      "source": [
        "X = np.array(df['features'].tolist())\n",
        "y = np.array(df['class'].tolist())"
      ]
    },
    {
      "cell_type": "code",
      "execution_count": 16,
      "metadata": {
        "id": "l23FAvZpDw0v"
      },
      "outputs": [],
      "source": [
        "from sklearn.model_selection import train_test_split\n",
        "\n",
        "X_train, X_temporary, y_train, y_temporary = train_test_split(X,y, train_size=0.8) \n",
        "X_val, X_test, y_val, y_test = train_test_split(X_temporary, y_temporary, train_size=0.5)"
      ]
    },
    {
      "cell_type": "code",
      "execution_count": 17,
      "metadata": {
        "id": "JpMxBKgyDw0v",
        "colab": {
          "base_uri": "https://localhost:8080/"
        },
        "outputId": "2fda083b-0a47-48a4-9f3a-aefa3184ac6b"
      },
      "outputs": [
        {
          "output_type": "stream",
          "name": "stdout",
          "text": [
            "(6990, 224, 300, 3) (874, 224, 300, 3) (874, 224, 300, 3) (6990,) (874,) (874,)\n"
          ]
        }
      ],
      "source": [
        "print(X_train.shape, X_test.shape,  X_val.shape, y_train.shape, y_test.shape, y_val.shape)\n"
      ]
    },
    {
      "cell_type": "code",
      "execution_count": 18,
      "metadata": {
        "id": "P5U2JYG2Dw0v",
        "colab": {
          "base_uri": "https://localhost:8080/"
        },
        "outputId": "37398c3c-8e19-4cc0-a0b2-ba047f576ac6"
      },
      "outputs": [
        {
          "output_type": "execute_result",
          "data": {
            "text/plain": [
              "(224, 300, 3)"
            ]
          },
          "metadata": {},
          "execution_count": 18
        }
      ],
      "source": [
        "X_test[100].shape"
      ]
    },
    {
      "cell_type": "code",
      "execution_count": 19,
      "metadata": {
        "id": "qr-tH_PZDw0v"
      },
      "outputs": [],
      "source": [
        "# X_train = X_train / 255\n",
        "# X_val = X_val / 255\n",
        "# X_test = X_test / 255"
      ]
    },
    {
      "cell_type": "markdown",
      "metadata": {
        "id": "qwzEVfPtDw0v"
      },
      "source": [
        "# CNN"
      ]
    },
    {
      "cell_type": "code",
      "execution_count": 20,
      "metadata": {
        "id": "DwkBTSHKDw0v"
      },
      "outputs": [],
      "source": [
        "# Create a model object\n",
        "model = tf.keras.Sequential()"
      ]
    },
    {
      "cell_type": "code",
      "execution_count": 21,
      "metadata": {
        "id": "KHrNFu1wDw0w"
      },
      "outputs": [],
      "source": [
        "# Add a convolution and max pooling layer\n",
        "model.add(tf.keras.layers.Conv2D(32,\n",
        "                                 kernel_size = (3, 3),\n",
        "                                 strides = (1, 1),\n",
        "                                 padding = \"same\",\n",
        "                                 activation = \"relu\",\n",
        "                                 input_shape = (224, 300, 3)))\n",
        "model.add(tf.keras.layers.MaxPooling2D((2,2)))\n"
      ]
    },
    {
      "cell_type": "code",
      "execution_count": 22,
      "metadata": {
        "id": "ZCdrWvYNDw0w"
      },
      "outputs": [],
      "source": [
        "# Add more convolution and max pooling layers\n",
        "model.add(tf.keras.layers.Conv2D(64,\n",
        "                                 kernel_size = (3, 3),\n",
        "                                 strides = (1, 1),\n",
        "                                 padding = \"same\",\n",
        "                                 activation = \"relu\"))\n",
        "model.add(tf.keras.layers.MaxPooling2D((2, 2)))\n",
        "model.add(tf.keras.layers.Conv2D(64,\n",
        "                                 kernel_size = (3, 3),\n",
        "                                 strides = (1, 1),\n",
        "                                 padding = \"same\",\n",
        "                                 activation = \"relu\"))\n"
      ]
    },
    {
      "cell_type": "code",
      "execution_count": 23,
      "metadata": {
        "id": "YpmyCMTQDw0w"
      },
      "outputs": [],
      "source": [
        "# Flatten the convolution layer\n",
        "model.add(tf.keras.layers.Flatten())"
      ]
    },
    {
      "cell_type": "code",
      "execution_count": 24,
      "metadata": {
        "id": "iHwUpzu5Dw0w"
      },
      "outputs": [],
      "source": [
        "# Add the dense layer and dropout layer\n",
        "model.add(tf.keras.layers.Dense(64, activation = \"relu\"))\n",
        "model.add(tf.keras.layers.Dropout(0.5))\n",
        "# Add the dense layer and dropout layer\n",
        "model.add(tf.keras.layers.Dense(64, activation = \"relu\"))\n",
        "model.add(tf.keras.layers.Dropout(0.5))"
      ]
    },
    {
      "cell_type": "code",
      "execution_count": 25,
      "metadata": {
        "id": "rfBwnQ5MDw0w"
      },
      "outputs": [],
      "source": [
        "# Add the output layer\n",
        "model.add(tf.keras.layers.Dense(10, activation = \"softmax\"))"
      ]
    },
    {
      "cell_type": "code",
      "execution_count": 26,
      "metadata": {
        "id": "rynM0H7ODw0w"
      },
      "outputs": [],
      "source": [
        "# Compile the model\n",
        "model.compile(optimizer = \"adam\",\n",
        "              loss = \"sparse_categorical_crossentropy\",\n",
        "              metrics = [\"accuracy\"])"
      ]
    },
    {
      "cell_type": "code",
      "execution_count": 27,
      "metadata": {
        "id": "Zp_9ER_sDw0w",
        "colab": {
          "base_uri": "https://localhost:8080/"
        },
        "outputId": "7ae47318-09a6-4889-9ed6-17a7c06eb346"
      },
      "outputs": [
        {
          "output_type": "stream",
          "name": "stdout",
          "text": [
            "Epoch 1/50\n",
            "55/55 [==============================] - 30s 295ms/step - loss: 14.1254 - accuracy: 0.1628 - val_loss: 2.0446 - val_accuracy: 0.2712\n",
            "Epoch 2/50\n",
            "55/55 [==============================] - 13s 232ms/step - loss: 2.1796 - accuracy: 0.2077 - val_loss: 2.0141 - val_accuracy: 0.3146\n",
            "Epoch 3/50\n",
            "55/55 [==============================] - 13s 234ms/step - loss: 2.0807 - accuracy: 0.2378 - val_loss: 1.9458 - val_accuracy: 0.3936\n",
            "Epoch 4/50\n",
            "55/55 [==============================] - 13s 235ms/step - loss: 2.0089 - accuracy: 0.2642 - val_loss: 1.9086 - val_accuracy: 0.3524\n",
            "Epoch 5/50\n",
            "55/55 [==============================] - 13s 236ms/step - loss: 1.9376 - accuracy: 0.2857 - val_loss: 1.7277 - val_accuracy: 0.4565\n",
            "Epoch 6/50\n",
            "55/55 [==============================] - 13s 240ms/step - loss: 1.8715 - accuracy: 0.3142 - val_loss: 1.7110 - val_accuracy: 0.4531\n",
            "Epoch 7/50\n",
            "55/55 [==============================] - 13s 241ms/step - loss: 1.7937 - accuracy: 0.3415 - val_loss: 1.5696 - val_accuracy: 0.4668\n",
            "Epoch 8/50\n",
            "55/55 [==============================] - 13s 244ms/step - loss: 1.7490 - accuracy: 0.3588 - val_loss: 1.5687 - val_accuracy: 0.4725\n",
            "Epoch 9/50\n",
            "55/55 [==============================] - 14s 247ms/step - loss: 1.7016 - accuracy: 0.3765 - val_loss: 1.6510 - val_accuracy: 0.4657\n",
            "Epoch 10/50\n",
            "55/55 [==============================] - 13s 244ms/step - loss: 1.6687 - accuracy: 0.3863 - val_loss: 1.4899 - val_accuracy: 0.5080\n",
            "Epoch 11/50\n",
            "55/55 [==============================] - 13s 243ms/step - loss: 1.6269 - accuracy: 0.3911 - val_loss: 1.5000 - val_accuracy: 0.4897\n",
            "Epoch 12/50\n",
            "55/55 [==============================] - 13s 242ms/step - loss: 1.5817 - accuracy: 0.4082 - val_loss: 1.4197 - val_accuracy: 0.5252\n",
            "Epoch 13/50\n",
            "55/55 [==============================] - 13s 242ms/step - loss: 1.5400 - accuracy: 0.4289 - val_loss: 1.3906 - val_accuracy: 0.5412\n",
            "Epoch 14/50\n",
            "55/55 [==============================] - 13s 243ms/step - loss: 1.5184 - accuracy: 0.4295 - val_loss: 1.3853 - val_accuracy: 0.5355\n",
            "Epoch 15/50\n",
            "55/55 [==============================] - 13s 244ms/step - loss: 1.4777 - accuracy: 0.4534 - val_loss: 1.3753 - val_accuracy: 0.5366\n",
            "Epoch 16/50\n",
            "55/55 [==============================] - 13s 244ms/step - loss: 1.4504 - accuracy: 0.4502 - val_loss: 1.3910 - val_accuracy: 0.5149\n",
            "Epoch 17/50\n",
            "55/55 [==============================] - 13s 243ms/step - loss: 1.4297 - accuracy: 0.4589 - val_loss: 1.3483 - val_accuracy: 0.5332\n",
            "Epoch 18/50\n",
            "55/55 [==============================] - 13s 243ms/step - loss: 1.3902 - accuracy: 0.4684 - val_loss: 1.3560 - val_accuracy: 0.5355\n",
            "Epoch 19/50\n",
            "55/55 [==============================] - 13s 243ms/step - loss: 1.4064 - accuracy: 0.4708 - val_loss: 1.3135 - val_accuracy: 0.5309\n",
            "Epoch 20/50\n",
            "55/55 [==============================] - 13s 245ms/step - loss: 1.3766 - accuracy: 0.4751 - val_loss: 1.2726 - val_accuracy: 0.5686\n",
            "Epoch 21/50\n",
            "55/55 [==============================] - 13s 243ms/step - loss: 1.3532 - accuracy: 0.4897 - val_loss: 1.2287 - val_accuracy: 0.5744\n",
            "Epoch 22/50\n",
            "55/55 [==============================] - 13s 244ms/step - loss: 1.2989 - accuracy: 0.5040 - val_loss: 1.2463 - val_accuracy: 0.5618\n",
            "Epoch 23/50\n",
            "55/55 [==============================] - 13s 243ms/step - loss: 1.3146 - accuracy: 0.5079 - val_loss: 1.2228 - val_accuracy: 0.5858\n",
            "Epoch 24/50\n",
            "55/55 [==============================] - 13s 244ms/step - loss: 1.2850 - accuracy: 0.5260 - val_loss: 1.1792 - val_accuracy: 0.6041\n",
            "Epoch 25/50\n",
            "55/55 [==============================] - 13s 244ms/step - loss: 1.2705 - accuracy: 0.5272 - val_loss: 1.2060 - val_accuracy: 0.5824\n",
            "Epoch 26/50\n",
            "55/55 [==============================] - 13s 244ms/step - loss: 1.2686 - accuracy: 0.5280 - val_loss: 1.2144 - val_accuracy: 0.5881\n",
            "Epoch 27/50\n",
            "55/55 [==============================] - 13s 243ms/step - loss: 1.2322 - accuracy: 0.5363 - val_loss: 1.2432 - val_accuracy: 0.5801\n",
            "Epoch 28/50\n",
            "55/55 [==============================] - 13s 243ms/step - loss: 1.2173 - accuracy: 0.5482 - val_loss: 1.1956 - val_accuracy: 0.5938\n",
            "Epoch 29/50\n",
            "55/55 [==============================] - 13s 243ms/step - loss: 1.1882 - accuracy: 0.5466 - val_loss: 1.1861 - val_accuracy: 0.5904\n",
            "Epoch 30/50\n",
            "55/55 [==============================] - 13s 243ms/step - loss: 1.1872 - accuracy: 0.5509 - val_loss: 1.1679 - val_accuracy: 0.6041\n",
            "Epoch 31/50\n",
            "55/55 [==============================] - 13s 243ms/step - loss: 1.1714 - accuracy: 0.5641 - val_loss: 1.1624 - val_accuracy: 0.5950\n",
            "Epoch 32/50\n",
            "55/55 [==============================] - 13s 243ms/step - loss: 1.1570 - accuracy: 0.5645 - val_loss: 1.2033 - val_accuracy: 0.6018\n",
            "Epoch 33/50\n",
            "55/55 [==============================] - 13s 243ms/step - loss: 1.1578 - accuracy: 0.5642 - val_loss: 1.1572 - val_accuracy: 0.6018\n",
            "Epoch 34/50\n",
            "55/55 [==============================] - 13s 245ms/step - loss: 1.1462 - accuracy: 0.5602 - val_loss: 1.2118 - val_accuracy: 0.6144\n",
            "Epoch 35/50\n",
            "55/55 [==============================] - 13s 243ms/step - loss: 1.1386 - accuracy: 0.5660 - val_loss: 1.1781 - val_accuracy: 0.6156\n",
            "Epoch 36/50\n",
            "55/55 [==============================] - 13s 243ms/step - loss: 1.1413 - accuracy: 0.5692 - val_loss: 1.1874 - val_accuracy: 0.6236\n",
            "Epoch 37/50\n",
            "55/55 [==============================] - 13s 243ms/step - loss: 1.1138 - accuracy: 0.5770 - val_loss: 1.1628 - val_accuracy: 0.6270\n",
            "Epoch 38/50\n",
            "55/55 [==============================] - 13s 243ms/step - loss: 1.1350 - accuracy: 0.5694 - val_loss: 1.1202 - val_accuracy: 0.6327\n",
            "Epoch 39/50\n",
            "55/55 [==============================] - 13s 244ms/step - loss: 1.1169 - accuracy: 0.5655 - val_loss: 1.1794 - val_accuracy: 0.6121\n",
            "Epoch 40/50\n",
            "55/55 [==============================] - 13s 243ms/step - loss: 1.1039 - accuracy: 0.5793 - val_loss: 1.1488 - val_accuracy: 0.6247\n",
            "Epoch 41/50\n",
            "55/55 [==============================] - 13s 243ms/step - loss: 1.1196 - accuracy: 0.5738 - val_loss: 1.1636 - val_accuracy: 0.6190\n",
            "Epoch 42/50\n",
            "55/55 [==============================] - 13s 243ms/step - loss: 1.0990 - accuracy: 0.5750 - val_loss: 1.2810 - val_accuracy: 0.6281\n",
            "Epoch 43/50\n",
            "55/55 [==============================] - 13s 243ms/step - loss: 1.1066 - accuracy: 0.5728 - val_loss: 1.1945 - val_accuracy: 0.6224\n",
            "Epoch 44/50\n",
            "55/55 [==============================] - 13s 243ms/step - loss: 1.0842 - accuracy: 0.5825 - val_loss: 1.1661 - val_accuracy: 0.6350\n",
            "Epoch 45/50\n",
            "55/55 [==============================] - 13s 243ms/step - loss: 1.1001 - accuracy: 0.5814 - val_loss: 1.1667 - val_accuracy: 0.6362\n",
            "Epoch 46/50\n",
            "55/55 [==============================] - 13s 243ms/step - loss: 1.0580 - accuracy: 0.5921 - val_loss: 1.1970 - val_accuracy: 0.6430\n",
            "Epoch 47/50\n",
            "55/55 [==============================] - 13s 243ms/step - loss: 1.0661 - accuracy: 0.5848 - val_loss: 1.2068 - val_accuracy: 0.6339\n",
            "Epoch 48/50\n",
            "55/55 [==============================] - 13s 245ms/step - loss: 1.0441 - accuracy: 0.5896 - val_loss: 1.1592 - val_accuracy: 0.6384\n",
            "Epoch 49/50\n",
            "55/55 [==============================] - 13s 243ms/step - loss: 1.0535 - accuracy: 0.5961 - val_loss: 1.1256 - val_accuracy: 0.6453\n",
            "Epoch 50/50\n",
            "55/55 [==============================] - 13s 242ms/step - loss: 1.0558 - accuracy: 0.5908 - val_loss: 1.1897 - val_accuracy: 0.6350\n"
          ]
        }
      ],
      "source": [
        "results = model.fit(X_train, y_train,\n",
        "                    batch_size = 128,\n",
        "                    epochs = 50,\n",
        "                    validation_data = (X_val, y_val))\n",
        "\n",
        "#EPOCHS = 50, BATCH_SIZE = 128 ==>  11.9 DK\n"
      ]
    },
    {
      "cell_type": "code",
      "source": [
        "# serialize model to JSON\n",
        "model_json = model.to_json()\n",
        "with open(\"model.json\", \"w\") as json_file:\n",
        "    json_file.write(model_json)\n",
        "\n",
        "# serialize weights to HDF5\n",
        "model.save_weights(\"model.h5\")\n",
        "print(\"Saved model to disk\")\n",
        " "
      ],
      "metadata": {
        "id": "9pg2SdEWcj2F",
        "colab": {
          "base_uri": "https://localhost:8080/"
        },
        "outputId": "92b525ce-43df-45de-ce94-492c415b64fd"
      },
      "execution_count": 28,
      "outputs": [
        {
          "output_type": "stream",
          "name": "stdout",
          "text": [
            "Saved model to disk\n"
          ]
        }
      ]
    },
    {
      "cell_type": "code",
      "source": [
        "from tensorflow.keras.models import model_from_json\n",
        "\n",
        " # load json and create model\n",
        "json_file = open('model.json', 'r')\n",
        "loaded_model_json = json_file.read()\n",
        "json_file.close()\n",
        "loaded_model = model_from_json(loaded_model_json)\n",
        "\n",
        "# load weights into new model\n",
        "loaded_model.load_weights(\"model.h5\")\n",
        "print(\"Loaded model from disk\")\n",
        " \n",
        "# # evaluate loaded model on test data\n",
        "# loaded_model.compile(loss='binary_crossentropy', optimizer='rmsprop', metrics=['accuracy'])\n",
        "# score = loaded_model.evaluate(X, y, verbose=0)\n",
        "# print(\"%s: %.2f%%\" % (loaded_model.metrics_names[1], score[1]*100))"
      ],
      "metadata": {
        "id": "LMf0uJuWc0mM",
        "colab": {
          "base_uri": "https://localhost:8080/"
        },
        "outputId": "ac676a56-5972-4edb-9078-2e76c9e0b689"
      },
      "execution_count": 29,
      "outputs": [
        {
          "output_type": "stream",
          "name": "stdout",
          "text": [
            "Loaded model from disk\n"
          ]
        }
      ]
    },
    {
      "cell_type": "code",
      "execution_count": 30,
      "metadata": {
        "id": "DnajhmTsDw0w",
        "colab": {
          "base_uri": "https://localhost:8080/",
          "height": 279
        },
        "outputId": "8c130fda-df1e-4d9e-ca21-6ea49fa68681"
      },
      "outputs": [
        {
          "output_type": "display_data",
          "data": {
            "text/plain": [
              "<Figure size 432x288 with 1 Axes>"
            ],
            "image/png": "[encoded data removed]"
          },
          "metadata": {
            "needs_background": "light"
          }
        }
      ],
      "source": [
        "# Plot the the training loss\n",
        "plt.plot(results.history[\"loss\"], label = \"loss\")\n",
        "\n",
        "# Plot the the validation loss\n",
        "plt.plot(results.history[\"val_loss\"], label = \"val_loss\")\n",
        "\n",
        "# Name the x and y axises\n",
        "plt.xlabel(\"Epoch\")\n",
        "plt.ylabel(\"Loss\")\n",
        "\n",
        "# Put legend table\n",
        "plt.legend()\n",
        "\n",
        "# Show the plot\n",
        "plt.show()"
      ]
    },
    {
      "cell_type": "code",
      "execution_count": 31,
      "metadata": {
        "id": "JF8UXs2SDw0w",
        "colab": {
          "base_uri": "https://localhost:8080/",
          "height": 279
        },
        "outputId": "288e21be-e8e0-44ec-c236-5d81911982bb"
      },
      "outputs": [
        {
          "output_type": "display_data",
          "data": {
            "text/plain": [
              "<Figure size 432x288 with 1 Axes>"
            ],
            "image/png": "[encoded data removed]"
          },
          "metadata": {
            "needs_background": "light"
          }
        }
      ],
      "source": [
        "# Plot the the training accuracy\n",
        "plt.plot(results.history[\"accuracy\"], label = \"accuracy\")\n",
        "\n",
        "# Plot the the validation accuracy\n",
        "plt.plot(results.history[\"val_accuracy\"], label = \"val_accuracy\")\n",
        "\n",
        "# Name the x and y axises\n",
        "plt.xlabel(\"Epoch\")\n",
        "plt.ylabel(\"Accuracy\")\n",
        "\n",
        "# Put legend table\n",
        "plt.legend()\n",
        "\n",
        "# Show the plot\n",
        "plt.show()"
      ]
    },
    {
      "cell_type": "code",
      "execution_count": 32,
      "metadata": {
        "id": "yDmZKAIKDw0w",
        "colab": {
          "base_uri": "https://localhost:8080/"
        },
        "outputId": "a2c8954b-0db1-4c78-de59-4f5e94c382bb"
      },
      "outputs": [
        {
          "output_type": "stream",
          "name": "stdout",
          "text": [
            "28/28 [==============================] - 1s 32ms/step - loss: 1.2299 - accuracy: 0.6430\n"
          ]
        },
        {
          "output_type": "execute_result",
          "data": {
            "text/plain": [
              "[1.2298721075057983, 0.6430205702781677]"
            ]
          },
          "metadata": {},
          "execution_count": 32
        }
      ],
      "source": [
        "model.evaluate(X_test, y_test)"
      ]
    },
    {
      "cell_type": "code",
      "execution_count": 33,
      "metadata": {
        "id": "6BgkN-FxDw0w",
        "colab": {
          "base_uri": "https://localhost:8080/"
        },
        "outputId": "2ca0496a-1b12-48b0-c5f3-e31279e4fc77"
      },
      "outputs": [
        {
          "output_type": "execute_result",
          "data": {
            "text/plain": [
              "array([[0.07516222, 0.05993808, 0.23758942, 0.15579109, 0.03305033,\n",
              "        0.11370351, 0.01352883, 0.02340234, 0.04282834, 0.24500592]],\n",
              "      dtype=float32)"
            ]
          },
          "metadata": {},
          "execution_count": 33
        }
      ],
      "source": [
        "# Make prediction on the reshaped sample\n",
        "prediction_result = model.predict(X_test[100].reshape(1, 224, 300, 3))\n",
        "\n",
        "# Print the prediction result\n",
        "prediction_result\n"
      ]
    },
    {
      "cell_type": "code",
      "execution_count": 34,
      "metadata": {
        "id": "r2v5fKRFDw0w"
      },
      "outputs": [],
      "source": [
        "# Find the predicted class\n",
        "predicted_class = prediction_result.argmax()\n",
        "# Find the prediction probability\n",
        "predicted_probability = prediction_result.max()"
      ]
    },
    {
      "cell_type": "code",
      "execution_count": 35,
      "metadata": {
        "id": "NaM_NY6SDw0x",
        "colab": {
          "base_uri": "https://localhost:8080/"
        },
        "outputId": "89ccdca3-9bd4-4982-ad8b-867acd983a29"
      },
      "outputs": [
        {
          "output_type": "stream",
          "name": "stdout",
          "text": [
            "This image belongs to class 9 with 0.24500592052936554%\n"
          ]
        }
      ],
      "source": [
        "# Print the results\n",
        "print(f\"\"\"This image belongs to class {predicted_class}\\\n",
        " with {predicted_probability}%\"\"\")"
      ]
    },
    {
      "cell_type": "code",
      "execution_count": 35,
      "metadata": {
        "id": "XPOyNtzMDw0x"
      },
      "outputs": [],
      "source": []
    }
  ],
  "metadata": {
    "colab": {
      "collapsed_sections": [],
      "provenance": []
    },
    "kernelspec": {
      "display_name": "Python 3.10.6 64-bit",
      "language": "python",
      "name": "python3"
    },
    "language_info": {
      "codemirror_mode": {
        "name": "ipython",
        "version": 3
      },
      "file_extension": ".py",
      "mimetype": "text/x-python",
      "name": "python",
      "nbconvert_exporter": "python",
      "pygments_lexer": "ipython3",
      "version": "3.10.6"
    },
    "vscode": {
      "interpreter": {
        "hash": "433bcbe472bfb13236b5861cd73e97c6feffb56f5fad7d2d5b1ccc373d265227"
      }
    },
    "accelerator": "GPU"
  },
  "nbformat": 4,
  "nbformat_minor": 0
}